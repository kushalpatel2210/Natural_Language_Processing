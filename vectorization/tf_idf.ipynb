{
 "cells": [
  {
   "cell_type": "markdown",
   "id": "962b6e42",
   "metadata": {},
   "source": [
    "# Term Frequency - Inverse Document Frequency (TF-IDF)"
   ]
  },
  {
   "cell_type": "code",
   "execution_count": 1,
   "id": "e0f1d533",
   "metadata": {},
   "outputs": [],
   "source": [
    "import pandas as pd\n",
    "from sklearn.feature_extraction.text import TfidfVectorizer"
   ]
  },
  {
   "cell_type": "code",
   "execution_count": 2,
   "id": "511fee11",
   "metadata": {},
   "outputs": [],
   "source": [
    "data = [' Most shark attacks occur about 10 feet from the beach since that is where the people are',\n",
    "        'the efficiency with which he paired the socks in the drawer was quite admirable',\n",
    "        'carol drank the blood as if she were a vampire',\n",
    "        'giving directions that the mountains are to the west only works when you can see them',\n",
    "        'the sign said there was road work ahead so he decided to speed up',\n",
    "        'the gruff old man sat in the back of the bait shop grumbling to himself as he scooped out a handful of worms']"
   ]
  },
  {
   "cell_type": "code",
   "execution_count": 3,
   "id": "e4fca878",
   "metadata": {},
   "outputs": [],
   "source": [
    "tfidfVec = TfidfVectorizer()"
   ]
  },
  {
   "cell_type": "code",
   "execution_count": 4,
   "id": "b9f23915",
   "metadata": {},
   "outputs": [],
   "source": [
    "tfidfVec_fit = tfidfVec.fit_transform(data)"
   ]
  },
  {
   "cell_type": "code",
   "execution_count": 5,
   "id": "c03cd124",
   "metadata": {},
   "outputs": [],
   "source": [
    "tfidf_bag = pd.DataFrame(tfidfVec_fit.toarray(), columns=tfidfVec.get_feature_names_out())"
   ]
  },
  {
   "cell_type": "code",
   "execution_count": 6,
   "id": "cb9d639e",
   "metadata": {},
   "outputs": [
    {
     "name": "stdout",
     "output_type": "stream",
     "text": [
      "         10     about  admirable     ahead  ...      work    works    worms      you\n",
      "0  0.257061  0.257061   0.000000  0.000000  ...  0.000000  0.00000  0.00000  0.00000\n",
      "1  0.000000  0.000000   0.293641  0.000000  ...  0.000000  0.00000  0.00000  0.00000\n",
      "2  0.000000  0.000000   0.000000  0.000000  ...  0.000000  0.00000  0.00000  0.00000\n",
      "3  0.000000  0.000000   0.000000  0.000000  ...  0.000000  0.27104  0.00000  0.27104\n",
      "4  0.000000  0.000000   0.000000  0.290766  ...  0.290766  0.00000  0.00000  0.00000\n",
      "5  0.000000  0.000000   0.000000  0.000000  ...  0.000000  0.00000  0.21782  0.00000\n",
      "\n",
      "[6 rows x 71 columns]\n"
     ]
    }
   ],
   "source": [
    "print(tfidf_bag)"
   ]
  }
 ],
 "metadata": {
  "kernelspec": {
   "display_name": "nlp (3.13.2)",
   "language": "python",
   "name": "python3"
  },
  "language_info": {
   "codemirror_mode": {
    "name": "ipython",
    "version": 3
   },
   "file_extension": ".py",
   "mimetype": "text/x-python",
   "name": "python",
   "nbconvert_exporter": "python",
   "pygments_lexer": "ipython3",
   "version": "3.13.2"
  }
 },
 "nbformat": 4,
 "nbformat_minor": 5
}
